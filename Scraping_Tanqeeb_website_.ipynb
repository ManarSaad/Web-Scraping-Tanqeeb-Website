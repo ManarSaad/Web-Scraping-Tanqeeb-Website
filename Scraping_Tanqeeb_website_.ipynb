{
  "nbformat": 4,
  "nbformat_minor": 0,
  "metadata": {
    "colab": {
      "name": "Scraping Tanqeeb website .ipynb",
      "provenance": [],
      "include_colab_link": true
    },
    "kernelspec": {
      "name": "python3",
      "display_name": "Python 3"
    },
    "language_info": {
      "name": "python"
    }
  },
  "cells": [
    {
      "cell_type": "markdown",
      "metadata": {
        "id": "view-in-github",
        "colab_type": "text"
      },
      "source": [
        "<a href=\"https://colab.research.google.com/github/ManarSaad/Web-Scraping-Tanqeeb-Website/blob/main/Scraping_Tanqeeb_website_.ipynb\" target=\"_parent\"><img src=\"https://colab.research.google.com/assets/colab-badge.svg\" alt=\"Open In Colab\"/></a>"
      ]
    },
    {
      "cell_type": "markdown",
      "source": [
        "## Web Scraping with requests_html Library "
      ],
      "metadata": {
        "id": "uA6Ic7w-KJO8"
      }
    },
    {
      "cell_type": "markdown",
      "source": [
        "### Goal: "
      ],
      "metadata": {
        "id": "NymayghcSkLs"
      }
    },
    {
      "cell_type": "markdown",
      "source": [
        "Tracking jobs of data analyst feild across Saudi Arabia cities."
      ],
      "metadata": {
        "id": "GTPLnx3-SvnG"
      }
    },
    {
      "cell_type": "markdown",
      "source": [
        "### Source:"
      ],
      "metadata": {
        "id": "jcqauAFyS0Pm"
      }
    },
    {
      "cell_type": "markdown",
      "source": [
        "[Link to Tanqeeb](https://saudi.tanqeeb.com/en) ,Tanqeeb is the biggest jobs search engine in the Middle East and North Africa (MENA) region. It brings you jobs from all major recruitment sites, companies and newspapers in one search page. You can view all jobs from all sources without having to move from one site to another through one simple and fast search page."
      ],
      "metadata": {
        "id": "eoV8wG6XS-j3"
      }
    },
    {
      "cell_type": "markdown",
      "source": [
        "### Steps:"
      ],
      "metadata": {
        "id": "FqA6yeFHT0Vl"
      }
    },
    {
      "cell_type": "markdown",
      "source": [
        "\n",
        "\n",
        "1.  Inspect the webpage\n",
        "2.  Parse the webpage html using Requests\n",
        "3.  Search for html elements\n",
        "\n"
      ],
      "metadata": {
        "id": "eIy2QqZnUDqa"
      }
    },
    {
      "cell_type": "code",
      "source": [
        "# install requests_html library \n",
        "! pip install requests_html"
      ],
      "metadata": {
        "colab": {
          "base_uri": "https://localhost:8080/"
        },
        "id": "UaflvZDCRW25",
        "outputId": "2fb6c66c-f9d4-47cf-d526-bc6aa9a90343"
      },
      "execution_count": null,
      "outputs": [
        {
          "output_type": "stream",
          "name": "stdout",
          "text": [
            "Collecting requests_html\n",
            "  Downloading requests_html-0.10.0-py3-none-any.whl (13 kB)\n",
            "Collecting pyquery\n",
            "  Downloading pyquery-1.4.3-py3-none-any.whl (22 kB)\n",
            "Collecting pyppeteer>=0.0.14\n",
            "  Downloading pyppeteer-1.0.2-py3-none-any.whl (83 kB)\n",
            "\u001b[K     |████████████████████████████████| 83 kB 1.5 MB/s \n",
            "\u001b[?25hCollecting parse\n",
            "  Downloading parse-1.19.0.tar.gz (30 kB)\n",
            "Requirement already satisfied: requests in /usr/local/lib/python3.7/dist-packages (from requests_html) (2.23.0)\n",
            "Collecting w3lib\n",
            "  Downloading w3lib-1.22.0-py2.py3-none-any.whl (20 kB)\n",
            "Collecting fake-useragent\n",
            "  Downloading fake-useragent-0.1.11.tar.gz (13 kB)\n",
            "Requirement already satisfied: bs4 in /usr/local/lib/python3.7/dist-packages (from requests_html) (0.0.1)\n",
            "Requirement already satisfied: importlib-metadata>=1.4 in /usr/local/lib/python3.7/dist-packages (from pyppeteer>=0.0.14->requests_html) (4.10.1)\n",
            "Requirement already satisfied: appdirs<2.0.0,>=1.4.3 in /usr/local/lib/python3.7/dist-packages (from pyppeteer>=0.0.14->requests_html) (1.4.4)\n",
            "Collecting websockets<11.0,>=10.0\n",
            "  Downloading websockets-10.1-cp37-cp37m-manylinux_2_5_x86_64.manylinux1_x86_64.manylinux_2_12_x86_64.manylinux2010_x86_64.whl (111 kB)\n",
            "\u001b[K     |████████████████████████████████| 111 kB 41.5 MB/s \n",
            "\u001b[?25hCollecting pyee<9.0.0,>=8.1.0\n",
            "  Downloading pyee-8.2.2-py2.py3-none-any.whl (12 kB)\n",
            "Collecting urllib3<2.0.0,>=1.25.8\n",
            "  Downloading urllib3-1.26.8-py2.py3-none-any.whl (138 kB)\n",
            "\u001b[K     |████████████████████████████████| 138 kB 51.6 MB/s \n",
            "\u001b[?25hRequirement already satisfied: certifi>=2021 in /usr/local/lib/python3.7/dist-packages (from pyppeteer>=0.0.14->requests_html) (2021.10.8)\n",
            "Requirement already satisfied: tqdm<5.0.0,>=4.42.1 in /usr/local/lib/python3.7/dist-packages (from pyppeteer>=0.0.14->requests_html) (4.62.3)\n",
            "Requirement already satisfied: typing-extensions>=3.6.4 in /usr/local/lib/python3.7/dist-packages (from importlib-metadata>=1.4->pyppeteer>=0.0.14->requests_html) (3.10.0.2)\n",
            "Requirement already satisfied: zipp>=0.5 in /usr/local/lib/python3.7/dist-packages (from importlib-metadata>=1.4->pyppeteer>=0.0.14->requests_html) (3.7.0)\n",
            "Requirement already satisfied: beautifulsoup4 in /usr/local/lib/python3.7/dist-packages (from bs4->requests_html) (4.6.3)\n",
            "Collecting cssselect>0.7.9\n",
            "  Downloading cssselect-1.1.0-py2.py3-none-any.whl (16 kB)\n",
            "Requirement already satisfied: lxml>=2.1 in /usr/local/lib/python3.7/dist-packages (from pyquery->requests_html) (4.2.6)\n",
            "Collecting urllib3<2.0.0,>=1.25.8\n",
            "  Downloading urllib3-1.25.11-py2.py3-none-any.whl (127 kB)\n",
            "\u001b[K     |████████████████████████████████| 127 kB 58.4 MB/s \n",
            "\u001b[?25hRequirement already satisfied: chardet<4,>=3.0.2 in /usr/local/lib/python3.7/dist-packages (from requests->requests_html) (3.0.4)\n",
            "Requirement already satisfied: idna<3,>=2.5 in /usr/local/lib/python3.7/dist-packages (from requests->requests_html) (2.10)\n",
            "Requirement already satisfied: six>=1.4.1 in /usr/local/lib/python3.7/dist-packages (from w3lib->requests_html) (1.15.0)\n",
            "Building wheels for collected packages: fake-useragent, parse\n",
            "  Building wheel for fake-useragent (setup.py) ... \u001b[?25l\u001b[?25hdone\n",
            "  Created wheel for fake-useragent: filename=fake_useragent-0.1.11-py3-none-any.whl size=13502 sha256=6b732e08fed389efe81822ba5107e7a26137183380daf2b12deed509f4c57205\n",
            "  Stored in directory: /root/.cache/pip/wheels/ed/f7/62/50ab6c9a0b5567267ab76a9daa9d06315704209b2c5d032031\n",
            "  Building wheel for parse (setup.py) ... \u001b[?25l\u001b[?25hdone\n",
            "  Created wheel for parse: filename=parse-1.19.0-py3-none-any.whl size=24591 sha256=19fec86baa06ef219b6565ec6fbb593eb607102f5567b88f1d7c6b1ee360bc64\n",
            "  Stored in directory: /root/.cache/pip/wheels/9c/aa/cc/f2228050ccb40f22144b073f15a2c84f11204f29fc0dce028e\n",
            "Successfully built fake-useragent parse\n",
            "Installing collected packages: websockets, urllib3, pyee, cssselect, w3lib, pyquery, pyppeteer, parse, fake-useragent, requests-html\n",
            "  Attempting uninstall: urllib3\n",
            "    Found existing installation: urllib3 1.24.3\n",
            "    Uninstalling urllib3-1.24.3:\n",
            "      Successfully uninstalled urllib3-1.24.3\n",
            "\u001b[31mERROR: pip's dependency resolver does not currently take into account all the packages that are installed. This behaviour is the source of the following dependency conflicts.\n",
            "datascience 0.10.6 requires folium==0.2.1, but you have folium 0.8.3 which is incompatible.\u001b[0m\n",
            "Successfully installed cssselect-1.1.0 fake-useragent-0.1.11 parse-1.19.0 pyee-8.2.2 pyppeteer-1.0.2 pyquery-1.4.3 requests-html-0.10.0 urllib3-1.25.11 w3lib-1.22.0 websockets-10.1\n"
          ]
        }
      ]
    },
    {
      "cell_type": "code",
      "source": [
        "# install the libraries\n",
        "from requests_html import HTMLSession\n",
        "import pandas as pd\n",
        "requests = HTMLSession()"
      ],
      "metadata": {
        "id": "pUKWShIxRnfh"
      },
      "execution_count": null,
      "outputs": []
    },
    {
      "cell_type": "code",
      "source": [
        "\n",
        "\n",
        "record=[]\n",
        "for xx in range(1,5):\n",
        "  page = requests.get(f'https://saudi.tanqeeb.com/jobs/search?keywords=data+analyst&countries[]=54&page_no={xx}&order_by=most_recent&search_in=f&dictionary=1&')\n",
        "  card=page.html.find('a.card-list-item.card-list-item-hover.px-3.px-lg-6.py-6.py-lg-4')\n",
        "    #loop into each element in the card container which include (job,location,company,date,summary) tags                     \n",
        "  for i in card:\n",
        "      job=i.find('h5.mb-2.hover-title.fs-16.fs-18-lg', first=True).text\n",
        "      location=i.xpath('//span[@class=\"pr-2 pb-1 d-block d-lg-inline-block\"][1]', first=True).text.replace('Saudi - ','')\n",
        "      company=i.xpath('//span[@class=\"pr-2 pb-1 d-block d-lg-inline-block\"][2]', first=True).text\n",
        "\n",
        "      try:\n",
        "        date=i.xpath('//span[@class=\"pr-2 pb-1 d-block d-lg-inline-block\"][3]', first=True).text\n",
        "      except:\n",
        "        date=''\n",
        "      summary=i.find('div.mb-4.text-primary-2.h7', first=True).text\n",
        "      # print(job)\n",
        "      # print(location)\n",
        "      # print(company)\n",
        "      # print(date)\n",
        "      # print(summary)\n",
        "      \n",
        "      record.append((job,location,company,date,summary))\n",
        "\n",
        "# stor the data into appropriate format \n",
        "SearchJob=pd.DataFrame(record,columns=['Job','Location','Company','Date','Summary'])\n",
        "SearchJob.to_csv('SearchJob.csv',index=False)\n"
      ],
      "metadata": {
        "id": "wCYKPel6mx6-"
      },
      "execution_count": null,
      "outputs": []
    },
    {
      "cell_type": "code",
      "source": [
        "SearchJob"
      ],
      "metadata": {
        "id": "KgyjKdMUR1XI",
        "colab": {
          "base_uri": "https://localhost:8080/",
          "height": 641
        },
        "outputId": "402016c1-b193-4269-db31-2dfac0772e2d"
      },
      "execution_count": null,
      "outputs": [
        {
          "output_type": "execute_result",
          "data": {
            "text/html": [
              "\n",
              "  <div id=\"df-9a600372-a0cf-467f-841b-36a0df6744e0\">\n",
              "    <div class=\"colab-df-container\">\n",
              "      <div>\n",
              "<style scoped>\n",
              "    .dataframe tbody tr th:only-of-type {\n",
              "        vertical-align: middle;\n",
              "    }\n",
              "\n",
              "    .dataframe tbody tr th {\n",
              "        vertical-align: top;\n",
              "    }\n",
              "\n",
              "    .dataframe thead th {\n",
              "        text-align: right;\n",
              "    }\n",
              "</style>\n",
              "<table border=\"1\" class=\"dataframe\">\n",
              "  <thead>\n",
              "    <tr style=\"text-align: right;\">\n",
              "      <th></th>\n",
              "      <th>Job</th>\n",
              "      <th>Location</th>\n",
              "      <th>Company</th>\n",
              "      <th>Date</th>\n",
              "      <th>Summary</th>\n",
              "    </tr>\n",
              "  </thead>\n",
              "  <tbody>\n",
              "    <tr>\n",
              "      <th>0</th>\n",
              "      <td>Investment Analyst</td>\n",
              "      <td>Riyadh</td>\n",
              "      <td>Al Saedan Real Estate</td>\n",
              "      <td>9 February 2022</td>\n",
              "      <td>Position Summary: The Investment Analyst/Speci...</td>\n",
              "    </tr>\n",
              "    <tr>\n",
              "      <th>1</th>\n",
              "      <td>Data Analyst &amp; Reporter</td>\n",
              "      <td>Saudi Arabia</td>\n",
              "      <td>SAUDI WHITE CEMENT COMPANY</td>\n",
              "      <td>9 February 2022</td>\n",
              "      <td>Managing master data, including creation, upda...</td>\n",
              "    </tr>\n",
              "    <tr>\n",
              "      <th>2</th>\n",
              "      <td>Data Analyst - Facility Management</td>\n",
              "      <td>Saudi Arabia</td>\n",
              "      <td>Aquila Consulting</td>\n",
              "      <td>9 February 2022</td>\n",
              "      <td>Aquila Consulting are working in partnership w...</td>\n",
              "    </tr>\n",
              "    <tr>\n",
              "      <th>3</th>\n",
              "      <td>Oracle Financial Consultant</td>\n",
              "      <td>Riyadh</td>\n",
              "      <td>Riyadh</td>\n",
              "      <td>8 February 2022</td>\n",
              "      <td>Provide expertise and knowledge in the Oracle ...</td>\n",
              "    </tr>\n",
              "    <tr>\n",
              "      <th>4</th>\n",
              "      <td>Data Privacy Analyst</td>\n",
              "      <td>Riyadh</td>\n",
              "      <td>Cognizant - Saudi Arabia</td>\n",
              "      <td>3 February 2022</td>\n",
              "      <td>Able to configure and validate the Data discov...</td>\n",
              "    </tr>\n",
              "    <tr>\n",
              "      <th>...</th>\n",
              "      <td>...</td>\n",
              "      <td>...</td>\n",
              "      <td>...</td>\n",
              "      <td>...</td>\n",
              "      <td>...</td>\n",
              "    </tr>\n",
              "    <tr>\n",
              "      <th>63</th>\n",
              "      <td>Senior Analyst, Services Project/Program Manag...</td>\n",
              "      <td>Riyadh</td>\n",
              "      <td>Dell</td>\n",
              "      <td>1 December 2021</td>\n",
              "      <td>Services Project/Program Management Senior Ana...</td>\n",
              "    </tr>\n",
              "    <tr>\n",
              "      <th>64</th>\n",
              "      <td>MASTER PLANNER SPECIALIST – SAUDI NATIONALS ONLY</td>\n",
              "      <td>Jizan</td>\n",
              "      <td>Parsons International Limited</td>\n",
              "      <td>30 November 2021</td>\n",
              "      <td>Job Description: We are seeking a recent colle...</td>\n",
              "    </tr>\n",
              "    <tr>\n",
              "      <th>65</th>\n",
              "      <td>Internet Media And Content Evaluator</td>\n",
              "      <td>Jeddah</td>\n",
              "      <td>Appen</td>\n",
              "      <td>29 November 2021</td>\n",
              "      <td>Appen is seeking candidates for exciting work-...</td>\n",
              "    </tr>\n",
              "    <tr>\n",
              "      <th>66</th>\n",
              "      <td>مطلوب محللـ / ـة نظم</td>\n",
              "      <td>Qassim</td>\n",
              "      <td>28 November 2021</td>\n",
              "      <td></td>\n",
              "      <td>خريج حديث جمع البيانات وتحليلها أخذ اراء الأقس...</td>\n",
              "    </tr>\n",
              "    <tr>\n",
              "      <th>67</th>\n",
              "      <td>Financial planning &amp; analysis</td>\n",
              "      <td>Riyadh</td>\n",
              "      <td>Riyadh</td>\n",
              "      <td>28 November 2021</td>\n",
              "      <td>Financial analysts leverage strong accounting ...</td>\n",
              "    </tr>\n",
              "  </tbody>\n",
              "</table>\n",
              "<p>68 rows × 5 columns</p>\n",
              "</div>\n",
              "      <button class=\"colab-df-convert\" onclick=\"convertToInteractive('df-9a600372-a0cf-467f-841b-36a0df6744e0')\"\n",
              "              title=\"Convert this dataframe to an interactive table.\"\n",
              "              style=\"display:none;\">\n",
              "        \n",
              "  <svg xmlns=\"http://www.w3.org/2000/svg\" height=\"24px\"viewBox=\"0 0 24 24\"\n",
              "       width=\"24px\">\n",
              "    <path d=\"M0 0h24v24H0V0z\" fill=\"none\"/>\n",
              "    <path d=\"M18.56 5.44l.94 2.06.94-2.06 2.06-.94-2.06-.94-.94-2.06-.94 2.06-2.06.94zm-11 1L8.5 8.5l.94-2.06 2.06-.94-2.06-.94L8.5 2.5l-.94 2.06-2.06.94zm10 10l.94 2.06.94-2.06 2.06-.94-2.06-.94-.94-2.06-.94 2.06-2.06.94z\"/><path d=\"M17.41 7.96l-1.37-1.37c-.4-.4-.92-.59-1.43-.59-.52 0-1.04.2-1.43.59L10.3 9.45l-7.72 7.72c-.78.78-.78 2.05 0 2.83L4 21.41c.39.39.9.59 1.41.59.51 0 1.02-.2 1.41-.59l7.78-7.78 2.81-2.81c.8-.78.8-2.07 0-2.86zM5.41 20L4 18.59l7.72-7.72 1.47 1.35L5.41 20z\"/>\n",
              "  </svg>\n",
              "      </button>\n",
              "      \n",
              "  <style>\n",
              "    .colab-df-container {\n",
              "      display:flex;\n",
              "      flex-wrap:wrap;\n",
              "      gap: 12px;\n",
              "    }\n",
              "\n",
              "    .colab-df-convert {\n",
              "      background-color: #E8F0FE;\n",
              "      border: none;\n",
              "      border-radius: 50%;\n",
              "      cursor: pointer;\n",
              "      display: none;\n",
              "      fill: #1967D2;\n",
              "      height: 32px;\n",
              "      padding: 0 0 0 0;\n",
              "      width: 32px;\n",
              "    }\n",
              "\n",
              "    .colab-df-convert:hover {\n",
              "      background-color: #E2EBFA;\n",
              "      box-shadow: 0px 1px 2px rgba(60, 64, 67, 0.3), 0px 1px 3px 1px rgba(60, 64, 67, 0.15);\n",
              "      fill: #174EA6;\n",
              "    }\n",
              "\n",
              "    [theme=dark] .colab-df-convert {\n",
              "      background-color: #3B4455;\n",
              "      fill: #D2E3FC;\n",
              "    }\n",
              "\n",
              "    [theme=dark] .colab-df-convert:hover {\n",
              "      background-color: #434B5C;\n",
              "      box-shadow: 0px 1px 3px 1px rgba(0, 0, 0, 0.15);\n",
              "      filter: drop-shadow(0px 1px 2px rgba(0, 0, 0, 0.3));\n",
              "      fill: #FFFFFF;\n",
              "    }\n",
              "  </style>\n",
              "\n",
              "      <script>\n",
              "        const buttonEl =\n",
              "          document.querySelector('#df-9a600372-a0cf-467f-841b-36a0df6744e0 button.colab-df-convert');\n",
              "        buttonEl.style.display =\n",
              "          google.colab.kernel.accessAllowed ? 'block' : 'none';\n",
              "\n",
              "        async function convertToInteractive(key) {\n",
              "          const element = document.querySelector('#df-9a600372-a0cf-467f-841b-36a0df6744e0');\n",
              "          const dataTable =\n",
              "            await google.colab.kernel.invokeFunction('convertToInteractive',\n",
              "                                                     [key], {});\n",
              "          if (!dataTable) return;\n",
              "\n",
              "          const docLinkHtml = 'Like what you see? Visit the ' +\n",
              "            '<a target=\"_blank\" href=https://colab.research.google.com/notebooks/data_table.ipynb>data table notebook</a>'\n",
              "            + ' to learn more about interactive tables.';\n",
              "          element.innerHTML = '';\n",
              "          dataTable['output_type'] = 'display_data';\n",
              "          await google.colab.output.renderOutput(dataTable, element);\n",
              "          const docLink = document.createElement('div');\n",
              "          docLink.innerHTML = docLinkHtml;\n",
              "          element.appendChild(docLink);\n",
              "        }\n",
              "      </script>\n",
              "    </div>\n",
              "  </div>\n",
              "  "
            ],
            "text/plain": [
              "                                                  Job  ...                                            Summary\n",
              "0                                  Investment Analyst  ...  Position Summary: The Investment Analyst/Speci...\n",
              "1                             Data Analyst & Reporter  ...  Managing master data, including creation, upda...\n",
              "2                  Data Analyst - Facility Management  ...  Aquila Consulting are working in partnership w...\n",
              "3                         Oracle Financial Consultant  ...  Provide expertise and knowledge in the Oracle ...\n",
              "4                                Data Privacy Analyst  ...  Able to configure and validate the Data discov...\n",
              "..                                                ...  ...                                                ...\n",
              "63  Senior Analyst, Services Project/Program Manag...  ...  Services Project/Program Management Senior Ana...\n",
              "64   MASTER PLANNER SPECIALIST – SAUDI NATIONALS ONLY  ...  Job Description: We are seeking a recent colle...\n",
              "65               Internet Media And Content Evaluator  ...  Appen is seeking candidates for exciting work-...\n",
              "66                               مطلوب محللـ / ـة نظم  ...  خريج حديث جمع البيانات وتحليلها أخذ اراء الأقس...\n",
              "67                      Financial planning & analysis  ...  Financial analysts leverage strong accounting ...\n",
              "\n",
              "[68 rows x 5 columns]"
            ]
          },
          "metadata": {},
          "execution_count": 4
        }
      ]
    }
  ]
}